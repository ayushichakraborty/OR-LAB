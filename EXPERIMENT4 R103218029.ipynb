{
  "nbformat": 4,
  "nbformat_minor": 0,
  "metadata": {
    "colab": {
      "name": "OR LAB EXPERIMENT 4.ipynb",
      "provenance": [],
      "collapsed_sections": [],
      "authorship_tag": "ABX9TyOOHEjiNf2WNBWGY6lEeh7K",
      "include_colab_link": true
    },
    "kernelspec": {
      "name": "python3",
      "display_name": "Python 3"
    },
    "language_info": {
      "name": "python"
    }
  },
  "cells": [
    {
      "cell_type": "markdown",
      "metadata": {
        "id": "view-in-github",
        "colab_type": "text"
      },
      "source": [
        "<a href=\"https://colab.research.google.com/github/ayushichakraborty/OR-LAB/blob/main/OR_LAB_EXPERIMENT_4.ipynb\" target=\"_parent\"><img src=\"https://colab.research.google.com/assets/colab-badge.svg\" alt=\"Open In Colab\"/></a>"
      ]
    },
    {
      "cell_type": "code",
      "metadata": {
        "id": "AiY2iOcMilkT"
      },
      "source": [
        "import cvxpy as cp"
      ],
      "execution_count": 1,
      "outputs": []
    },
    {
      "cell_type": "markdown",
      "metadata": {
        "id": "ihTziM0okLd0"
      },
      "source": [
        "Q1. Max Z = 7x1 + 10x2 Constraints = -x1 + 3x2 <= 6 = 7x1 + x2 <= 35 = x1, x2 >= 0 and integer"
      ]
    },
    {
      "cell_type": "code",
      "metadata": {
        "colab": {
          "base_uri": "https://localhost:8080/"
        },
        "id": "xENrl2rIkMvE",
        "outputId": "10860deb-77a2-43bb-f718-1dd40bdf404e"
      },
      "source": [
        "x1 = cp.Variable()\n",
        "x2 = cp.Variable()\n",
        "objective = cp.Maximize( 7*x1 + 10*x2 )\n",
        "constraints = [ -1*x1 + 3*x2 <= 6 , 7*x1 + x2 <= 35]\n",
        "prob = cp.Problem(objective,constraints)\n",
        "prob.solve()"
      ],
      "execution_count": 2,
      "outputs": [
        {
          "output_type": "execute_result",
          "data": {
            "text/plain": [
              "66.49999997691361"
            ]
          },
          "metadata": {},
          "execution_count": 2
        }
      ]
    },
    {
      "cell_type": "markdown",
      "metadata": {
        "id": "hF4o8rHEl2Qr"
      },
      "source": [
        "Q2. Max Z = 5x1 + 8x2 Constraints = x1 + x2 <= 6 = 5x1 + 9x2 <= 45 = x1, x2 >= 0 and integer"
      ]
    },
    {
      "cell_type": "code",
      "metadata": {
        "colab": {
          "base_uri": "https://localhost:8080/"
        },
        "id": "cBDsV1Jcl3FS",
        "outputId": "e580c3f5-b49f-4cd0-ef3b-21164f9e89f6"
      },
      "source": [
        "x1 = cp.Variable()\n",
        "x2 = cp.Variable()\n",
        "objective = cp.Maximize( 5*x1 + 8*x2 )\n",
        "constraints = [ 1*x1 + 1*x2 <= 6 , 5*x1 + 9*x2 <= 45]\n",
        "prob = cp.Problem(objective,constraints)\n",
        "prob.solve()"
      ],
      "execution_count": 3,
      "outputs": [
        {
          "output_type": "execute_result",
          "data": {
            "text/plain": [
              "41.25000000018229"
            ]
          },
          "metadata": {},
          "execution_count": 3
        }
      ]
    },
    {
      "cell_type": "markdown",
      "metadata": {
        "id": "hx5niUcimUnd"
      },
      "source": [
        "Q3. A machine is used to produce two interchangeable products. The daily capacity of the machine can produce at most 20 units of product 1 and 10 units of product 2. Alternatively, the machine can be adjusted to produce at most 12 units of product 1 and 25 units of product 2 daily. Market analysis shows that the maximum daily demand for the two products combined is 35 units. Given that the unit profits for the two respective products are 10 and 12, which of the two machine settings should be selected? Formulate the problem as an IPP and find the optimum."
      ]
    },
    {
      "cell_type": "code",
      "metadata": {
        "colab": {
          "base_uri": "https://localhost:8080/"
        },
        "id": "HHlZ6z_Mmj0a",
        "outputId": "5596e298-bc05-4743-cea8-56f4a71c9e45"
      },
      "source": [
        "x1 = cp.Variable(integer=True)\n",
        "x2 = cp.Variable(integer=True)\n",
        "objective = cp.Maximize( 10*x1 + 12*x2 )\n",
        "constraints = [x1 + x2 <= 35, 25*x1-12*x2 <= 0, 12*x1-10*x2 <= 0, x1>=0, x2>=0]\n",
        "prob = cp.Problem(objective,constraints)\n",
        "prob.solve()\n",
        "print(\"X1 : \", x1.value)\n",
        "print(\"X2 : \", x2.value)\n",
        "print(\"Value of obj : \", objective.value)"
      ],
      "execution_count": 4,
      "outputs": [
        {
          "output_type": "stream",
          "name": "stdout",
          "text": [
            "X1 :  0.0\n",
            "X2 :  35.0\n",
            "Value of obj :  420.0\n"
          ]
        }
      ]
    }
  ]
}
